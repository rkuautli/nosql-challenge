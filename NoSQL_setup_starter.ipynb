{
 "cells": [
  {
   "cell_type": "markdown",
   "id": "9a57c4c6",
   "metadata": {},
   "source": [
    "# Eat Safe, Love"
   ]
  },
  {
   "cell_type": "markdown",
   "id": "064ef857",
   "metadata": {},
   "source": [
    "## Part 1: Database and Jupyter Notebook Set Up"
   ]
  },
  {
   "cell_type": "markdown",
   "id": "664e3c1f",
   "metadata": {},
   "source": [
    "Import the data provided in the `establishments.json` file from your Terminal. Name the database `uk_food` and the collection `establishments`.\n",
    "\n",
    "Within this markdown cell, copy the line of text you used to import the data from your Terminal. This way, future analysts will be able to repeat your process.\n",
    "\n",
    "e.g.: Import the dataset with `YOUR IMPORT TEXT HERE`"
   ]
  },
  {
   "cell_type": "code",
   "execution_count": null,
   "id": "3ecdd008",
   "metadata": {},
   "outputs": [],
   "source": [
    "# Import dependencies\n",
    "from pymongo import MongoClient\n",
    "from pprint import pprint"
   ]
  },
  {
   "cell_type": "code",
   "execution_count": null,
   "id": "59390c4a",
   "metadata": {},
   "outputs": [],
   "source": [
    "# Create an instance of MongoClient\n",
    "mongo = MongoClient(port=27017)"
   ]
  },
  {
   "cell_type": "code",
   "execution_count": null,
   "id": "7f9ececa",
   "metadata": {},
   "outputs": [],
   "source": [
    "# confirm that our new database was created\n",
    "pprint(mongo.list_database_names())\n",
    "\n",
    "['admin',\n",
    " 'classDB',\n",
    " 'config',\n",
    " 'fruits_db',\n",
    " 'local',\n",
    " 'petsitly_marketing',\n",
    " 'travel_db',\n",
    " 'uk_food']"
   ]
  },
  {
   "cell_type": "code",
   "execution_count": null,
   "id": "71e373c1",
   "metadata": {},
   "outputs": [],
   "source": [
    "# assign the uk_food database to a variable name\n",
    "db = mongo['uk_food']"
   ]
  },
  {
   "cell_type": "code",
   "execution_count": null,
   "id": "ef1b89ed",
   "metadata": {},
   "outputs": [],
   "source": [
    "# review the collections in our new database\n",
    "pprint(db.list_collection_names())\n",
    "['establishments']"
   ]
  },
  {
   "cell_type": "code",
   "execution_count": null,
   "id": "18ab463c",
   "metadata": {},
   "outputs": [],
   "source": [
    "# review a document in the establishments collection\n",
    "pprint(db.establishments.find_one())\n",
    "{'AddressLine1': 'The Bay',\n",
    " 'AddressLine2': 'St Margarets Bay',\n",
    " 'AddressLine3': 'Kent',\n",
    " 'AddressLine4': '',\n",
    " 'BusinessName': 'The Coastguard Inn',\n",
    " 'BusinessType': 'Pub/bar/nightclub',\n",
    " 'BusinessTypeID': 7843,\n",
    " 'ChangesByServerID': 0,\n",
    " 'Distance': 4587.347174863443,\n",
    " 'FHRSID': 1034540,\n",
    " 'LocalAuthorityBusinessID': 'PI/000078691',\n",
    " 'LocalAuthorityCode': '182',\n",
    " 'LocalAuthorityEmailAddress': 'publicprotection@dover.gov.uk',\n",
    " 'LocalAuthorityName': 'Dover',\n",
    " 'LocalAuthorityWebSite': 'http://www.dover.gov.uk/',\n",
    " 'NewRatingPending': False,\n",
    " 'Phone': '',\n",
    " 'PostCode': 'CT15 6DY',\n",
    " 'RatingDate': '2022-08-17T00:00:00',\n",
    " 'RatingKey': 'fhrs_5_en-gb',\n",
    " 'RatingValue': '5',\n",
    " 'RightToReply': '',\n",
    " 'SchemeType': 'FHRS',\n",
    " '_id': ObjectId('66e39474ae958ca44ee0011c'),\n",
    " 'geocode': {'latitude': '51.152225', 'longitude': '1.387974'},\n",
    " 'links': [{'href': 'https://api.ratings.food.gov.uk/establishments/1034540',\n",
    "            'rel': 'self'}],\n",
    " 'meta': {'dataSource': None,\n",
    "          'extractDate': '0001-01-01T00:00:00',\n",
    "          'itemCount': 0,\n",
    "          'pageNumber': 0,\n",
    "          'pageSize': 0,\n",
    "          'returncode': None,\n",
    "          'totalCount': 0,\n",
    "          'totalPages': 0},\n",
    " 'scores': {'ConfidenceInManagement': 0, 'Hygiene': 0, 'Structural': 5}}"
   ]
  },
  {
   "cell_type": "code",
   "execution_count": null,
   "id": "6a0d92df",
   "metadata": {},
   "outputs": [],
   "source": [
    "# review a document in the establishments collection\n"
   ]
  },
  {
   "cell_type": "code",
   "execution_count": null,
   "id": "11c9f11b",
   "metadata": {},
   "outputs": [],
   "source": [
    "# assign the collection to a variable\n",
    "establishments = db['establishments']"
   ]
  },
  {
   "cell_type": "markdown",
   "id": "d5671434",
   "metadata": {},
   "source": [
    "## Part 2: Update the Database"
   ]
  },
  {
   "cell_type": "markdown",
   "id": "314bd884",
   "metadata": {},
   "source": [
    "1. An exciting new halal restaurant just opened in Greenwich, but hasn't been rated yet. The magazine has asked you to include it in your analysis. Add the following restaurant \"Penang Flavours\" to the database."
   ]
  },
  {
   "cell_type": "code",
   "execution_count": null,
   "id": "c2da7648",
   "metadata": {},
   "outputs": [],
   "source": [
    "# Create a dictionary for the new restaurant data\n",
    "new = {\n",
    "    \"BusinessName\":\"Penang Flavours\",\n",
    "    \"BusinessType\":\"Restaurant/Cafe/Canteen\",\n",
    "    \"BusinessTypeID\":\"\",\n",
    "    \"AddressLine1\":\"Penang Flavours\",\n",
    "    \"AddressLine2\":\"146A Plumstead Rd\",\n",
    "    \"AddressLine3\":\"London\",\n",
    "    \"AddressLine4\":\"\",\n",
    "    \"PostCode\":\"SE18 7DY\",\n",
    "    \"Phone\":\"\",\n",
    "    \"LocalAuthorityCode\":\"511\",\n",
    "    \"LocalAuthorityName\":\"Greenwich\",\n",
    "    \"LocalAuthorityWebSite\":\"http://www.royalgreenwich.gov.uk\",\n",
    "    \"LocalAuthorityEmailAddress\":\"health@royalgreenwich.gov.uk\",\n",
    "    \"scores\":{\n",
    "        \"Hygiene\":\"\",\n",
    "        \"Structural\":\"\",\n",
    "        \"ConfidenceInManagement\":\"\"\n",
    "    },\n",
    "    \"SchemeType\":\"FHRS\",\n",
    "    \"geocode\":{\n",
    "        \"longitude\":\"0.08384000\",\n",
    "        \"latitude\":\"51.49014200\"\n",
    "    },\n",
    "    \"RightToReply\":\"\",\n",
    "    \"Distance\":4623.9723280747176,\n",
    "    \"NewRatingPending\":True\n",
    "}\n"
   ]
  },
  {
   "cell_type": "code",
   "execution_count": null,
   "id": "a6e5cece",
   "metadata": {},
   "outputs": [],
   "source": [
    "# Insert the new restaurant into the collection\n",
    "establishments.insert_one(new)\n",
    "InsertOneResult(ObjectId('66e3949a3ba0333d720f64b6'), acknowledged=True)\n"
   ]
  },
  {
   "cell_type": "code",
   "execution_count": null,
   "id": "63bb10f9",
   "metadata": {},
   "outputs": [],
   "source": [
    "# Check that the new restaurant was inserted\n",
    "query = {'BusinessName': 'Penang Flavours'}\n",
    "results = establishments.find(query)\n",
    "for result in results:\n",
    "    pprint(result)\n",
    "{'AddressLine1': 'Penang Flavours',\n",
    " 'AddressLine2': '146A Plumstead Rd',\n",
    " 'AddressLine3': 'London',\n",
    " 'AddressLine4': '',\n",
    " 'BusinessName': 'Penang Flavours',\n",
    " 'BusinessType': 'Restaurant/Cafe/Canteen',\n",
    " 'BusinessTypeID': '',\n",
    " 'Distance': 4623.972328074718,\n",
    " 'LocalAuthorityCode': '511',\n",
    " 'LocalAuthorityEmailAddress': 'health@royalgreenwich.gov.uk',\n",
    " 'LocalAuthorityName': 'Greenwich',\n",
    " 'LocalAuthorityWebSite': 'http://www.royalgreenwich.gov.uk',\n",
    " 'NewRatingPending': True,\n",
    " 'Phone': '',\n",
    " 'PostCode': 'SE18 7DY',\n",
    " 'RightToReply': '',\n",
    " 'SchemeType': 'FHRS',\n",
    " '_id': ObjectId('66e3949a3ba0333d720f64b6'),\n",
    " 'geocode': {'latitude': '51.49014200', 'longitude': '0.08384000'},\n",
    " 'scores': {'ConfidenceInManagement': '', 'Hygiene': '', 'Structural': ''}}"
   ]
  },
  {
   "cell_type": "markdown",
   "id": "0ef4395a",
   "metadata": {},
   "source": [
    "2. Find the BusinessTypeID for \"Restaurant/Cafe/Canteen\" and return only the `BusinessTypeID` and `BusinessType` fields."
   ]
  },
  {
   "cell_type": "code",
   "execution_count": null,
   "id": "93c63829",
   "metadata": {},
   "outputs": [],
   "source": [
    "# Find the BusinessTypeID for \"Restaurant/Cafe/Canteen\" and return only the BusinessTypeID and BusinessType fields\n",
    "query = {'BusinessType':'Restaurant/Cafe/Canteen'}\n",
    "fields = {'BusinessTypeID': 1, 'BusinessType': 1}\n",
    "\n",
    "establishments.find_one(query, fields)\n",
    "\n",
    "{'_id': ObjectId('66e39474ae958ca44ee00405'),\n",
    " 'BusinessType': 'Restaurant/Cafe/Canteen',\n",
    " 'BusinessTypeID': 1}"
   ]
  },
  {
   "cell_type": "markdown",
   "id": "4e570caf",
   "metadata": {},
   "source": [
    "3. Update the new restaurant with the `BusinessTypeID` you found."
   ]
  },
  {
   "cell_type": "code",
   "execution_count": null,
   "id": "7f599f3d",
   "metadata": {},
   "outputs": [],
   "source": [
    "# Update the new restaurant with the correct BusinessTypeID\n",
    "db.establishments.update_one(\n",
    "    {'BusinessName': 'Penang Flavours'},  \n",
    "    {'$set':           \n",
    "        {'BusinessTypeID': 1}      \n",
    "     }\n",
    ")"
   ]
  },
  {
   "cell_type": "code",
   "execution_count": null,
   "id": "a6ad16f7",
   "metadata": {},
   "outputs": [],
   "source": [
    "# Confirm that the new restaurant was updated\n",
    "query = {'BusinessName': 'Penang Flavours'}\n",
    "fields = {'BusinessName': 1, 'BusinessTypeID': 1}\n",
    "\n",
    "# Capture the results to a variable\n",
    "results = establishments.find(query, fields)\n",
    "\n",
    "# Pretty print the results\n",
    "for result in results:\n",
    "    pprint(result)\n",
    "{'BusinessName': 'Penang Flavours',\n",
    " 'BusinessTypeID': 1,\n",
    " '_id': ObjectId('66e3949a3ba0333d720f64b6')}\n"
   ]
  },
  {
   "cell_type": "markdown",
   "id": "67281254",
   "metadata": {},
   "source": [
    "4. The magazine is not interested in any establishments in Dover, so check how many documents contain the Dover Local Authority. Then, remove any establishments within the Dover Local Authority from the database, and check the number of documents to ensure they were deleted."
   ]
  },
  {
   "cell_type": "code",
   "execution_count": null,
   "id": "768474a6",
   "metadata": {},
   "outputs": [],
   "source": [
    "# Find how many documents have LocalAuthorityName as \"Dover\"\n",
    "query = {'LocalAuthorityName': \"Dover\"}\n",
    "\n",
    "# Print the number of results\n",
    "print(\"Number of documents in result where query = 'LocalAuthorityName':'Dover':\", establishments.count_documents(query))\n"
   ]
  },
  {
   "cell_type": "code",
   "execution_count": null,
   "id": "a11d5f1b",
   "metadata": {},
   "outputs": [],
   "source": [
    "# Delete all documents where LocalAuthorityName is \"Dover\"\n",
    "establishments.delete_many(query)\n",
    "DeleteResult({'n': 994, 'ok': 1.0}, acknowledged=True)"
   ]
  },
  {
   "cell_type": "code",
   "execution_count": null,
   "id": "2a51aba0",
   "metadata": {},
   "outputs": [],
   "source": [
    "# Check if any remaining documents include Dover\n",
    "print(\"Number of documents in result where query = 'LocalAuthorityName':'Dover':\", establishments.count_documents(query))\n",
    "Number of documents in result where query = 'LocalAuthorityName':'Dover': 0"
   ]
  },
  {
   "cell_type": "code",
   "execution_count": null,
   "id": "8c356f7b",
   "metadata": {},
   "outputs": [],
   "source": [
    "# Check that other documents remain with 'find_one'\n",
    "pprint(db.establishments.find_one())\n",
    "{'AddressLine1': 'St Marys Church Of England Primary School',\n",
    " 'AddressLine2': 'Warren Road',\n",
    " 'AddressLine3': 'Folkestone',\n",
    " 'AddressLine4': 'Kent',\n",
    " 'BusinessName': 'St Marys COE (aided) Primary School',\n",
    " 'BusinessType': 'School/college/university',\n",
    " 'BusinessTypeID': 7845,\n",
    " 'ChangesByServerID': 0,\n",
    " 'Distance': 4591.871474174837,\n",
    " 'FHRSID': 289353,\n",
    " 'LocalAuthorityBusinessID': 'PI/000002468',\n",
    " 'LocalAuthorityCode': '188',\n",
    " 'LocalAuthorityEmailAddress': 'foodteam@folkestone-hythe.gov.uk',\n",
    " 'LocalAuthorityName': 'Folkestone and Hythe',\n",
    " 'LocalAuthorityWebSite': 'http://www.folkestone-hythe.gov.uk',\n",
    " 'NewRatingPending': False,\n",
    " 'Phone': '',\n",
    " 'PostCode': 'CT19 6QH',\n",
    " 'RatingDate': '2016-09-13T00:00:00',\n",
    " 'RatingKey': 'fhrs_5_en-gb',\n",
    " 'RatingValue': '5',\n",
    " 'RightToReply': '',\n",
    " 'SchemeType': 'FHRS',\n",
    " '_id': ObjectId('66e39474ae958ca44ee00403'),\n",
    " 'geocode': {'latitude': '51.085797', 'longitude': '1.194762'},\n",
    " 'links': [{'href': 'https://api.ratings.food.gov.uk/establishments/289353',\n",
    "            'rel': 'self'}],\n",
    " 'meta': {'dataSource': None,\n",
    "          'extractDate': '0001-01-01T00:00:00',\n",
    "          'itemCount': 0,\n",
    "          'pageNumber': 0,\n",
    "          'pageSize': 0,\n",
    "          'returncode': None,\n",
    "          'totalCount': 0,\n",
    "          'totalPages': 0},\n",
    " 'scores': {'ConfidenceInManagement': 0, 'Hygiene': 0, 'Structural': 0}}"
   ]
  },
  {
   "attachments": {},
   "cell_type": "markdown",
   "id": "e9f1662d",
   "metadata": {},
   "source": [
    "5. Some of the number values are stored as strings, when they should be stored as numbers."
   ]
  },
  {
   "attachments": {},
   "cell_type": "markdown",
   "id": "c46df2df",
   "metadata": {},
   "source": [
    "Use `update_many` to convert `latitude` and `longitude` to decimal numbers."
   ]
  },
  {
   "cell_type": "code",
   "execution_count": null,
   "id": "fd4112ce",
   "metadata": {},
   "outputs": [],
   "source": [
    "# Change the data type from String to Decimal for longitude and latitude\n",
    "establishments.update_many({}, [ {'$set':{ \"geocode.latitude\" : {'$toDecimal': \"$geocode.latitude\"},\"geocode.longitude\" : {'$toDecimal': \"$geocode.longitude\"}} }])\n",
    "UpdateResult({'n': 38786, 'nModified': 38786, 'ok': 1.0, 'updatedExisting': True}, acknowledged=True)\n",
    "Use update_many to convert RatingValue to integer numbers."
   ]
  },
  {
   "attachments": {},
   "cell_type": "markdown",
   "id": "142e319c",
   "metadata": {},
   "source": [
    "Use `update_many` to convert `RatingValue` to integer numbers."
   ]
  },
  {
   "cell_type": "code",
   "execution_count": null,
   "id": "04430a5b",
   "metadata": {},
   "outputs": [],
   "source": [
    "# Set non 1-5 Rating Values to Null\n",
    "non_ratings = [\"AwaitingInspection\", \"Awaiting Inspection\", \"AwaitingPublication\", \"Pass\", \"Exempt\"]\n",
    "establishments.update_many({\"RatingValue\": {\"$in\": non_ratings}}, [ {'$set':{ \"RatingValue\" : None}} ])\n",
    "\n",
    "UpdateResult({'n': 4091, 'nModified': 4091, 'ok': 1.0, 'updatedExisting': True}, acknowledged=True)"
   ]
  },
  {
   "cell_type": "code",
   "execution_count": null,
   "id": "92524ccc",
   "metadata": {},
   "outputs": [],
   "source": [
    "# Change the data type from String to Integer for RatingValue\n",
    "establishments.update_many({}, [ {'$set':{ \"RatingValue\" : {'$toInt': \"$RatingValue\"}} }])\n",
    "UpdateResult({'n': 38786, 'nModified': 34695, 'ok': 1.0, 'updatedExisting': True}, acknowledged=True)"
   ]
  },
  {
   "cell_type": "code",
   "execution_count": null,
   "id": "0deacaf9",
   "metadata": {},
   "outputs": [],
   "source": [
    "# Check that the coordinates and rating value are now numbers\n",
    "fields = {'RatingValue': 1, 'geocode.latitude': 1, 'geocode.longitude': 1}\n",
    "\n",
    "# Capture the results to a variable\n",
    "results = establishments.find({},fields).limit(20)\n",
    "\n",
    "\n",
    "# Pretty print the results\n",
    "for result in results:\n",
    "    pprint(result)\n",
    "{'RatingValue': 5,\n",
    " '_id': ObjectId('66e39474ae958ca44ee00403'),\n",
    " 'geocode': {'latitude': Decimal128('51.085797'),\n",
    "             'longitude': Decimal128('1.194762')}}\n",
    "{'RatingValue': 4,\n",
    " '_id': ObjectId('66e39474ae958ca44ee00404'),\n",
    " 'geocode': {'latitude': Decimal128('51.086058'),\n",
    "             'longitude': Decimal128('1.196408')}}\n",
    "{'RatingValue': 5,\n",
    " '_id': ObjectId('66e39474ae958ca44ee00405'),\n",
    " 'geocode': {'latitude': Decimal128('51.083812'),\n",
    "             'longitude': Decimal128('1.195625')}}\n",
    "{'RatingValue': 5,\n",
    " '_id': ObjectId('66e39474ae958ca44ee00408'),\n",
    " 'geocode': {'latitude': Decimal128('51.08084'),\n",
    "             'longitude': Decimal128('1.188537')}}\n",
    "{'RatingValue': 5,\n",
    " '_id': ObjectId('66e39474ae958ca44ee00409'),\n",
    " 'geocode': {'latitude': Decimal128('51.08084'),\n",
    "             'longitude': Decimal128('1.188537')}}\n",
    "{'RatingValue': 4,\n",
    " '_id': ObjectId('66e39474ae958ca44ee0040a'),\n",
    " 'geocode': {'latitude': Decimal128('51.08084'),\n",
    "             'longitude': Decimal128('1.188537')}}\n",
    "{'RatingValue': 5,\n",
    " '_id': ObjectId('66e39474ae958ca44ee0040b'),\n",
    " 'geocode': {'latitude': Decimal128('51.08084'),\n",
    "             'longitude': Decimal128('1.188537')}}\n",
    "{'RatingValue': 5,\n",
    " '_id': ObjectId('66e39474ae958ca44ee0040c'),\n",
    " 'geocode': {'latitude': Decimal128('51.0783519967076'),\n",
    "             'longitude': Decimal128('1.18590330311705')}}\n",
    "{'RatingValue': 5,\n",
    " '_id': ObjectId('66e39474ae958ca44ee0040d'),\n",
    " 'geocode': {'latitude': Decimal128('51.0783519967076'),\n",
    "             'longitude': Decimal128('1.18590330311705')}}\n",
    "{'RatingValue': 5,\n",
    " '_id': ObjectId('66e39474ae958ca44ee0040e'),\n",
    " 'geocode': {'latitude': Decimal128('51.0783519967076'),\n",
    "             'longitude': Decimal128('1.18590330311705')}}\n",
    "{'RatingValue': 5,\n",
    " '_id': ObjectId('66e39474ae958ca44ee0040f'),\n",
    " 'geocode': {'latitude': Decimal128('51.0783519967076'),\n",
    "             'longitude': Decimal128('1.18590330311705')}}\n",
    "{'RatingValue': 4,\n",
    " '_id': ObjectId('66e39474ae958ca44ee00410'),\n",
    " 'geocode': {'latitude': Decimal128('51.0783519967076'),\n",
    "             'longitude': Decimal128('1.18590330311705')}}\n",
    "{'RatingValue': 5,\n",
    " '_id': ObjectId('66e39474ae958ca44ee00411'),\n",
    " 'geocode': {'latitude': Decimal128('51.0783519967076'),\n",
    "             'longitude': Decimal128('1.18590330311705')}}\n",
    "{'RatingValue': 5,\n",
    " '_id': ObjectId('66e39474ae958ca44ee00412'),\n",
    " 'geocode': {'latitude': Decimal128('51.0783519967076'),\n",
    "             'longitude': Decimal128('1.18590330311705')}}\n",
    "{'RatingValue': 5,\n",
    " '_id': ObjectId('66e39474ae958ca44ee00413'),\n",
    " 'geocode': {'latitude': Decimal128('51.0783519967076'),\n",
    "             'longitude': Decimal128('1.18590330311705')}}\n",
    "{'RatingValue': 5,\n",
    " '_id': ObjectId('66e39474ae958ca44ee00414'),\n",
    " 'geocode': {'latitude': Decimal128('51.0783519967076'),\n",
    "             'longitude': Decimal128('1.18590330311705')}}\n",
    "{'RatingValue': 3,\n",
    " '_id': ObjectId('66e39474ae958ca44ee00415'),\n",
    " 'geocode': {'latitude': Decimal128('51.0783519967076'),\n",
    "             'longitude': Decimal128('1.18590330311705')}}\n",
    "{'RatingValue': 5,\n",
    " '_id': ObjectId('66e39474ae958ca44ee00416'),\n",
    " 'geocode': {'latitude': Decimal128('51.0783519967076'),\n",
    "             'longitude': Decimal128('1.18590330311705')}}\n",
    "{'RatingValue': 5,\n",
    " '_id': ObjectId('66e39474ae958ca44ee00417'),\n",
    " 'geocode': {'latitude': Decimal128('51.0783519967076'),\n",
    "             'longitude': Decimal128('1.18590330311705')}}\n",
    "{'RatingValue': 5,\n",
    " '_id': ObjectId('66e39474ae958ca44ee00418'),\n",
    " 'geocode': {'latitude': Decimal128('51.0783519967076'),\n",
    "             'longitude': Decimal128('1.18590330311705')}}\n",
    "\n"
   ]
  }
 ],
 "metadata": {
  "kernelspec": {
   "display_name": "Python 3 (ipykernel)",
   "language": "python",
   "name": "python3"
  },
  "language_info": {
   "codemirror_mode": {
    "name": "ipython",
    "version": 3
   },
   "file_extension": ".py",
   "mimetype": "text/x-python",
   "name": "python",
   "nbconvert_exporter": "python",
   "pygments_lexer": "ipython3",
   "version": "3.10.4"
  }
 },
 "nbformat": 4,
 "nbformat_minor": 5
}
